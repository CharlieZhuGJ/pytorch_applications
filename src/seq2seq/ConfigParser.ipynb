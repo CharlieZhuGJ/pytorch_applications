{
 "cells": [
  {
   "cell_type": "code",
   "execution_count": 2,
   "metadata": {},
   "outputs": [],
   "source": [
    "import configparser"
   ]
  },
  {
   "cell_type": "code",
   "execution_count": 5,
   "metadata": {},
   "outputs": [
    {
     "data": {
      "text/plain": [
       "['seq2seq.ini']"
      ]
     },
     "execution_count": 5,
     "metadata": {},
     "output_type": "execute_result"
    }
   ],
   "source": [
    "cp = configparser.ConfigParser(allow_no_value=True)\n",
    "cp.read(\"seq2seq.ini\", encoding=\"utf-8\")"
   ]
  },
  {
   "cell_type": "code",
   "execution_count": 7,
   "metadata": {},
   "outputs": [
    {
     "name": "stdout",
     "output_type": "stream",
     "text": [
      "[('mode', 'train'), ('seq_data', 'train_data/seq.data'), ('train_data', 'train_data'), ('resource_data', 'train_data/xiaohuangji50w_nofenci.conv'), ('e', 'E'), ('m', 'M'), ('model_data', 'model_data')]\n"
     ]
    }
   ],
   "source": [
    "data = cp.items(\"strings\")\n",
    "print(data)"
   ]
  },
  {
   "cell_type": "code",
   "execution_count": 8,
   "metadata": {},
   "outputs": [
    {
     "name": "stdout",
     "output_type": "stream",
     "text": [
      "[('enc_vocab_size', '20000'), ('dec_vocab_size', '20000'), ('embedding_dim', '128'), ('layer_size', '256'), ('max_train_data_size', '50000'), ('batch_size', '128')]\n"
     ]
    }
   ],
   "source": [
    "data = cp.items(\"ints\")\n",
    "print(data)"
   ]
  },
  {
   "cell_type": "code",
   "execution_count": null,
   "metadata": {},
   "outputs": [],
   "source": []
  }
 ],
 "metadata": {
  "kernelspec": {
   "display_name": "Python 3",
   "language": "python",
   "name": "python3"
  },
  "language_info": {
   "codemirror_mode": {
    "name": "ipython",
    "version": 3
   },
   "file_extension": ".py",
   "mimetype": "text/x-python",
   "name": "python",
   "nbconvert_exporter": "python",
   "pygments_lexer": "ipython3",
   "version": "3.7.6"
  }
 },
 "nbformat": 4,
 "nbformat_minor": 4
}
